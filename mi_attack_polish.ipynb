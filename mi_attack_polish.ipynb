{
 "cells": [
  {
   "cell_type": "code",
   "execution_count": 1,
   "id": "1027973e",
   "metadata": {},
   "outputs": [
    {
     "name": "stderr",
     "output_type": "stream",
     "text": [
      "2023-06-06 12:41:46.108846: W tensorflow/stream_executor/platform/default/dso_loader.cc:64] Could not load dynamic library 'libcudart.so.11.0'; dlerror: libcudart.so.11.0: cannot open shared object file: No such file or directory\n",
      "2023-06-06 12:41:46.109243: I tensorflow/stream_executor/cuda/cudart_stub.cc:29] Ignore above cudart dlerror if you do not have a GPU set up on your machine.\n"
     ]
    }
   ],
   "source": [
    "from mia_models import train_target_model, load_shadow_data, train_shadow_models\n",
    "from mia_models import prepare_attack_test_data, prep_validation_data, prep_attack_train_data\n",
    "from mia_models import shokri_attack, prety_print_result\n",
    "import tensorflow.keras as keras\n",
    "import numpy as np\n",
    "from sklearn.utils import resample\n",
    "import pandas as pd\n",
    "import pickle\n",
    "import os\n",
    "import csv\n",
    "import scipy.stats as stats\n",
    "from sklearn.model_selection import train_test_split\n",
    "from imblearn.over_sampling import SMOTE\n",
    "from sklearn.metrics import precision_recall_fscore_support\n",
    "from sklearn.metrics import confusion_matrix,accuracy_score\n",
    "from sklearn.linear_model import LogisticRegression\n",
    "from statistics import mean\n",
    "from sklearn.preprocessing import StandardScaler\n",
    "from sklearn.preprocessing import LabelEncoder\n",
    "from tensorflow.keras.models import Sequential\n",
    "from tensorflow.keras.layers import Dense\n",
    "from tensorflow.keras.layers import Activation\n",
    "from tensorflow.keras.layers import Dropout\n",
    "from tensorflow.keras.utils import to_categorical\n",
    "from tensorflow.keras.optimizers import SGD\n",
    "from keras.regularizers import l2\n",
    "from sklearn.metrics import accuracy_score\n",
    "MODEL_PATH = './model/'\n",
    "DATA_PATH = './data/'"
   ]
  },
  {
   "cell_type": "code",
   "execution_count": 2,
   "id": "1dde3592",
   "metadata": {},
   "outputs": [],
   "source": [
    "# --------------------------------------------Original Data--------------------------------------------------------------#"
   ]
  },
  {
   "cell_type": "code",
   "execution_count": 3,
   "id": "a4dbcade",
   "metadata": {},
   "outputs": [],
   "source": [
    "# original_dataset=pd.read_csv('data/polish_original.csv', na_values=[\"?\"])\n",
    "# original_dataset['income_cat'] = pd.cut(original_dataset.income, bins=[0, 1000, 20000],labels=['<=1K','>1K'], include_lowest=True)\n",
    "# original_dataset.drop('income', axis=1, inplace=True)\n",
    "# original_dataset.drop('income_categorical', axis=1, inplace=True)\n",
    "# #original_dataset.drop('smoke', axis=1, inplace=True)\n",
    "# original_dataset.rename(columns = {'income_cat':'income'}, inplace = True)\n",
    "# original_dataset['income'].value_counts()\n",
    "# original_dataset.to_csv('data/polish_original.csv', index=False)"
   ]
  },
  {
   "cell_type": "code",
   "execution_count": 2,
   "id": "b10d6745",
   "metadata": {},
   "outputs": [],
   "source": [
    "dataset_name = 'polish'\n",
    "train_size = 100\n",
    "attack_test_size = 50\n",
    "test_start = 100\n",
    "data=pd.read_csv('data/Polish/polish_original.csv', na_values=[\"?\"], header=None).iloc[1: , :]\n",
    "target_dataset = data.sample(n = 150, replace = False)\n",
    "df_rest = data.loc[~data.index.isin(target_dataset.index)]\n",
    "shadow_dataset = df_rest.sample(n = 2000, replace = False)\n",
    "df_rest = df_rest.loc[~df_rest.index.isin(shadow_dataset.index)]\n",
    "attack_test_nonmembers = df_rest.sample(n = attack_test_size, replace = False)\n",
    "attack_test_members =  target_dataset.iloc[:train_size,:].sample(n = attack_test_size, replace = False)"
   ]
  },
  {
   "cell_type": "code",
   "execution_count": 3,
   "id": "c3787688",
   "metadata": {},
   "outputs": [
    {
     "name": "stderr",
     "output_type": "stream",
     "text": [
      "2023-06-06 12:42:13.696783: W tensorflow/stream_executor/platform/default/dso_loader.cc:64] Could not load dynamic library 'libcuda.so.1'; dlerror: libcuda.so.1: cannot open shared object file: No such file or directory\n",
      "2023-06-06 12:42:13.698322: W tensorflow/stream_executor/cuda/cuda_driver.cc:269] failed call to cuInit: UNKNOWN ERROR (303)\n",
      "2023-06-06 12:42:13.698701: I tensorflow/stream_executor/cuda/cuda_diagnostics.cc:156] kernel driver does not appear to be running on this host (LAPTOP-BP5MTC3R): /proc/driver/nvidia/version does not exist\n",
      "2023-06-06 12:42:13.700678: I tensorflow/core/platform/cpu_feature_guard.cc:193] This TensorFlow binary is optimized with oneAPI Deep Neural Network Library (oneDNN) to use the following CPU instructions in performance-critical operations:  AVX2 FMA\n",
      "To enable them in other operations, rebuild TensorFlow with the appropriate compiler flags.\n"
     ]
    },
    {
     "name": "stdout",
     "output_type": "stream",
     "text": [
      "\n",
      " Target Train acc :  100.0 Target Test acc :  60.00000238418579\n"
     ]
    }
   ],
   "source": [
    "# trian target model\n",
    "per_class_sample=5000\n",
    "channel=0   \n",
    "epochs=200\n",
    "n_class = 2\n",
    "is_synthetic = False\n",
    "VERBOSE = 0\n",
    "test_ratio = 0.3\n",
    "\n",
    "target_model, dim = train_target_model(target_dataset, dataset_name, per_class_sample, epochs, n_class, train_size, test_start, is_synthetic)"
   ]
  },
  {
   "cell_type": "code",
   "execution_count": null,
   "id": "5a961b01",
   "metadata": {},
   "outputs": [],
   "source": [
    "#train shadow model\n",
    "n_shadow_models = 20\n",
    "shadow_data_size = 1200\n",
    "\n",
    "load_shadow_data(shadow_dataset, dataset_name, n_shadow_models, shadow_data_size, test_ratio, is_synthetic)\n",
    "n_shadow_train_performance, n_shadow_test_performance, n_attack_data, x_shadow_train, y_shadow_train, x_shadow_test, y_shadow_test, shadow_model_init, shadow_accuracy = train_shadow_models(dataset_name, n_shadow_models, n_class, dim, epochs, channel)"
   ]
  },
  {
   "cell_type": "code",
   "execution_count": 6,
   "id": "9074b50c",
   "metadata": {},
   "outputs": [
    {
     "name": "stdout",
     "output_type": "stream",
     "text": [
      "2/2 [==============================] - 0s 67ms/step\n",
      "2/2 [==============================] - 0s 7ms/step\n",
      "0\n",
      "1/1 [==============================] - 0s 53ms/step\n",
      "1/1 [==============================] - 0s 35ms/step\n",
      "1\n",
      "1/1 [==============================] - 0s 58ms/step\n",
      "1/1 [==============================] - 0s 34ms/step\n",
      "TP: 36     FP: 25     FN: 14     TN: 25\n",
      "PPV: 0.5902\n",
      "Advantage: 0.2200\n",
      "Accuracy:  0.61 Precision:  0.5901639344262295\n"
     ]
    }
   ],
   "source": [
    "#train attack model\n",
    "attack_test_data = prepare_attack_test_data(dataset_name, attack_test_members, attack_test_nonmembers, target_model, is_synthetic)\n",
    "mem_validation, nmem_validation = prep_validation_data(attack_test_data)\n",
    "attack_train_df = prep_attack_train_data(n_attack_data)\n",
    "pred_membership, ori_membership, TP_idx_list, TN_idx_list, mpred, nmpred = shokri_attack(attack_train_df, mem_validation, nmem_validation, epochs)\n",
    "tp, fp, fn, tn, precision, advj, acc, recall = prety_print_result (ori_membership,pred_membership)\n",
    "print('Accuracy: ', acc, 'Precision: ', precision)"
   ]
  },
  {
   "cell_type": "code",
   "execution_count": null,
   "id": "00283ab1",
   "metadata": {},
   "outputs": [],
   "source": [
    "# --------------------------------------------Synthetic Data------------------------------------------------------------#"
   ]
  },
  {
   "cell_type": "code",
   "execution_count": 23,
   "id": "70c19ec5",
   "metadata": {},
   "outputs": [],
   "source": [
    "#synthetic_dataset=pd.read_csv('data/Polish/polish_sds_cac_2500.csv', na_values=[\"?\"])\n",
    "#synthetic_dataset['income_cat'] = pd.cut(synthetic_dataset.income, bins=[0, 1000, 20000],labels=['<=1K','>1K'], include_lowest=True)\n",
    "#synthetic_dataset.drop('income', axis=1, inplace=True)\n",
    "#synthetic_dataset.drop('smoke', axis=1, inplace=True)\n",
    "#synthetic_dataset.rename(columns = {'income_cat':'income'}, inplace = True)\n",
    "#synthetic_dataset['income'].value_counts()\n",
    "#synthetic_dataset.to_csv('data/Polish/polish_sds_cac_2500_mod.csv', header=False, index=False)"
   ]
  },
  {
   "cell_type": "code",
   "execution_count": 5,
   "id": "a3c22a20",
   "metadata": {},
   "outputs": [],
   "source": [
    "# synthetic dataset\n",
    "dataset_name = 'polish'\n",
    "train_size = 840\n",
    "attack_test_size = 600\n",
    "test_start = 840\n",
    "org_dataset = pd.read_csv('data/Polish/polish_original.csv', na_values=[\"?\"], header=None).iloc[1: , :]\n",
    "target_dataset = pd.read_csv('data/Polish/polish_sds_cac_2500_mod.csv', na_values=[\"?\"], header=None)\n",
    "df = org_dataset.iloc[2500:,:]\n",
    "shadow_dataset = df.sample(n = 1800, replace = False)\n",
    "df_rest = df.loc[~df.index.isin(shadow_dataset.index)]\n",
    "attack_test_nonmembers = df_rest.sample(n = attack_test_size, replace = False)\n",
    "attack_test_members = org_dataset.iloc[:2500,:]\n",
    "attack_test_members = attack_test_members.sample(n=attack_test_size, replace=False)"
   ]
  },
  {
   "cell_type": "code",
   "execution_count": 7,
   "id": "0487e8a9",
   "metadata": {},
   "outputs": [
    {
     "name": "stdout",
     "output_type": "stream",
     "text": [
      "\n",
      " Target Train acc :  92.02380776405334 Target Test acc :  59.638553857803345\n"
     ]
    }
   ],
   "source": [
    "# trian target model\n",
    "per_class_sample=5000\n",
    "channel=0   \n",
    "epochs=200\n",
    "act_layer=3\n",
    "n_class = 2\n",
    "is_synthetic = False\n",
    "VERBOSE = 0\n",
    "test_ratio = 0.3\n",
    "\n",
    "target_model, dim = train_target_model(target_dataset, dataset_name, per_class_sample, epochs, n_class, train_size, test_start, is_synthetic)"
   ]
  },
  {
   "cell_type": "code",
   "execution_count": 27,
   "id": "e4bf13de",
   "metadata": {},
   "outputs": [
    {
     "name": "stdout",
     "output_type": "stream",
     "text": [
      "Shadow Model  0\n",
      "Training shadow model 0\n",
      "Shadow Train acc :  98.57142567634583 Shadow Test acc :  60.00000238418579\n",
      "27/27 [==============================] - 0s 2ms/step\n",
      "12/12 [==============================] - 0s 2ms/step\n",
      "Shadow Model  1\n",
      "Training shadow model 1\n",
      "Shadow Train acc :  99.16666746139526 Shadow Test acc :  60.83333492279053\n",
      "27/27 [==============================] - 0s 3ms/step\n",
      "12/12 [==============================] - 0s 2ms/step\n",
      "Shadow Model  2\n",
      "Training shadow model 2\n",
      "Shadow Train acc :  98.45238327980042 Shadow Test acc :  58.888888359069824\n",
      "27/27 [==============================] - 0s 2ms/step\n",
      "12/12 [==============================] - 0s 2ms/step\n",
      "Shadow Model  3\n",
      "Training shadow model 3\n",
      "Shadow Train acc :  99.28571581840515 Shadow Test acc :  60.83333492279053\n",
      "27/27 [==============================] - 0s 2ms/step\n",
      "12/12 [==============================] - 0s 2ms/step\n",
      "Shadow Model  4\n",
      "Training shadow model 4\n",
      "Shadow Train acc :  98.8095223903656 Shadow Test acc :  58.05555582046509\n",
      "27/27 [==============================] - 0s 2ms/step\n",
      "12/12 [==============================] - 0s 2ms/step\n",
      "Shadow Model  5\n",
      "Training shadow model 5\n",
      "Shadow Train acc :  98.69047403335571 Shadow Test acc :  61.666667461395264\n",
      "27/27 [==============================] - 0s 2ms/step\n",
      "12/12 [==============================] - 0s 2ms/step\n",
      "Shadow Model  6\n",
      "Training shadow model 6\n",
      "Shadow Train acc :  98.33333492279053 Shadow Test acc :  61.11111044883728\n",
      "27/27 [==============================] - 0s 2ms/step\n",
      "12/12 [==============================] - 0s 2ms/step\n",
      "Shadow Model  7\n",
      "Training shadow model 7\n",
      "Shadow Train acc :  95.35714387893677 Shadow Test acc :  59.44444537162781\n",
      "27/27 [==============================] - 0s 2ms/step\n",
      "12/12 [==============================] - 0s 2ms/step\n",
      "Shadow Model  8\n",
      "Training shadow model 8\n",
      "Shadow Train acc :  99.76190328598022 Shadow Test acc :  58.888888359069824\n",
      "27/27 [==============================] - 0s 2ms/step\n",
      "12/12 [==============================] - 0s 2ms/step\n",
      "Shadow Model  9\n",
      "Training shadow model 9\n",
      "Shadow Train acc :  99.40476417541504 Shadow Test acc :  59.16666388511658\n",
      "27/27 [==============================] - 0s 2ms/step\n",
      "12/12 [==============================] - 0s 2ms/step\n",
      "Shadow Model  10\n",
      "Training shadow model 10\n",
      "Shadow Train acc :  98.09523820877075 Shadow Test acc :  61.94444298744202\n",
      "27/27 [==============================] - 0s 2ms/step\n",
      "12/12 [==============================] - 0s 2ms/step\n",
      "Shadow Model  11\n",
      "Training shadow model 11\n",
      "Shadow Train acc :  97.3809540271759 Shadow Test acc :  59.16666388511658\n",
      "27/27 [==============================] - 0s 2ms/step\n",
      "12/12 [==============================] - 0s 2ms/step\n",
      "Shadow Model  12\n",
      "Training shadow model 12\n",
      "Shadow Train acc :  99.16666746139526 Shadow Test acc :  61.11111044883728\n",
      "27/27 [==============================] - 0s 2ms/step\n",
      "12/12 [==============================] - 0s 4ms/step\n",
      "Shadow Model  13\n",
      "Training shadow model 13\n",
      "Shadow Train acc :  97.14285731315613 Shadow Test acc :  61.666667461395264\n",
      "27/27 [==============================] - 0s 2ms/step\n",
      "12/12 [==============================] - 0s 2ms/step\n",
      "Shadow Model  14\n",
      "Training shadow model 14\n",
      "Shadow Train acc :  97.85714149475098 Shadow Test acc :  63.333332538604736\n",
      "27/27 [==============================] - 0s 2ms/step\n",
      "12/12 [==============================] - 0s 2ms/step\n",
      "Shadow Model  15\n",
      "Training shadow model 15\n",
      "Shadow Train acc :  99.28571581840515 Shadow Test acc :  61.11111044883728\n",
      "27/27 [==============================] - 0s 2ms/step\n",
      "12/12 [==============================] - 0s 2ms/step\n",
      "Shadow Model  16\n",
      "Training shadow model 16\n",
      "Shadow Train acc :  94.04761791229248 Shadow Test acc :  59.16666388511658\n",
      "27/27 [==============================] - 0s 2ms/step\n",
      "12/12 [==============================] - 0s 2ms/step\n",
      "Shadow Model  17\n",
      "Training shadow model 17\n",
      "Shadow Train acc :  98.8095223903656 Shadow Test acc :  63.333332538604736\n",
      "27/27 [==============================] - 0s 2ms/step\n",
      "12/12 [==============================] - 0s 2ms/step\n",
      "Shadow Model  18\n",
      "Training shadow model 18\n",
      "Shadow Train acc :  97.6190447807312 Shadow Test acc :  62.22222447395325\n",
      "27/27 [==============================] - 0s 2ms/step\n",
      "12/12 [==============================] - 0s 2ms/step\n",
      "Shadow Model  19\n",
      "Training shadow model 19\n",
      "Shadow Train acc :  98.21428656578064 Shadow Test acc :  60.00000238418579\n",
      "27/27 [==============================] - 0s 3ms/step\n",
      "12/12 [==============================] - 0s 2ms/step\n"
     ]
    }
   ],
   "source": [
    "#train shadow model\n",
    "n_shadow_models = 20\n",
    "shadow_data_size = 1200\n",
    "\n",
    "load_shadow_data(shadow_dataset, dataset_name, n_shadow_models, shadow_data_size, test_ratio, is_synthetic)\n",
    "n_shadow_train_performance, n_shadow_test_performance, n_attack_data, x_shadow_train, y_shadow_train, x_shadow_test, y_shadow_test, shadow_model_init, shadow_accuracy = train_shadow_models(dataset_name, n_shadow_models, n_class, dim, epochs, channel)"
   ]
  },
  {
   "cell_type": "code",
   "execution_count": 28,
   "id": "be986b9a",
   "metadata": {},
   "outputs": [
    {
     "name": "stdout",
     "output_type": "stream",
     "text": [
      "19/19 [==============================] - 0s 2ms/step\n",
      "19/19 [==============================] - 0s 2ms/step\n",
      "0\n",
      "10/10 [==============================] - 0s 1ms/step\n",
      "10/10 [==============================] - 0s 1ms/step\n",
      "1\n",
      "10/10 [==============================] - 0s 5ms/step\n",
      "10/10 [==============================] - 0s 1ms/step\n",
      "TP: 337     FP: 299     FN: 263     TN: 301\n",
      "PPV: 0.5299\n",
      "Advantage: 0.0633\n",
      "Accuracy:  0.5316666666666666 Precision:  0.529874213836478\n"
     ]
    }
   ],
   "source": [
    "#train attack model\n",
    "attack_test_data = prepare_attack_test_data(dataset_name, attack_test_members, attack_test_nonmembers, target_model, is_synthetic)\n",
    "mem_validation, nmem_validation = prep_validation_data(attack_test_data)\n",
    "attack_train_df = prep_attack_train_data(n_attack_data)\n",
    "pred_membership, ori_membership, TP_idx_list, TN_idx_list, mpred_syn, nmpred_syn = shokri_attack(attack_train_df, mem_validation, nmem_validation, epochs)\n",
    "tp, fp, fn, tn, precision, advj, acc, recall = prety_print_result (ori_membership,pred_membership)\n",
    "print('Accuracy: ', acc, 'Precision: ', precision)"
   ]
  },
  {
   "cell_type": "code",
   "execution_count": null,
   "id": "fd1bfee3",
   "metadata": {},
   "outputs": [],
   "source": [
    "# --------------------------------------------Synthetic Data-------------------------------------------------------------#"
   ]
  }
 ],
 "metadata": {
  "kernelspec": {
   "display_name": "Python 3 (ipykernel)",
   "language": "python",
   "name": "python3"
  },
  "language_info": {
   "codemirror_mode": {
    "name": "ipython",
    "version": 3
   },
   "file_extension": ".py",
   "mimetype": "text/x-python",
   "name": "python",
   "nbconvert_exporter": "python",
   "pygments_lexer": "ipython3",
   "version": "3.7.12"
  }
 },
 "nbformat": 4,
 "nbformat_minor": 5
}
