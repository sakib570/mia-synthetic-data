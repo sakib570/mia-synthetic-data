{
 "cells": [
  {
   "cell_type": "code",
   "execution_count": null,
   "id": "1027973e",
   "metadata": {},
   "outputs": [],
   "source": [
    "from mia_models import train_target_model, load_shadow_data, train_shadow_models\n",
    "from mia_models import prepare_attack_test_data, prep_validation_data, prep_attack_train_data\n",
    "from mia_models import shokri_attack, prety_print_result\n",
    "import tensorflow.keras as keras\n",
    "import numpy as np\n",
    "from sklearn.utils import resample\n",
    "import pandas as pd\n",
    "import pickle\n",
    "import os\n",
    "import csv\n",
    "import scipy.stats as stats\n",
    "from sklearn.model_selection import train_test_split\n",
    "from imblearn.over_sampling import SMOTE\n",
    "from sklearn.metrics import precision_recall_fscore_support\n",
    "from sklearn.metrics import confusion_matrix,accuracy_score\n",
    "from sklearn.linear_model import LogisticRegression\n",
    "from statistics import mean\n",
    "from sklearn.preprocessing import StandardScaler\n",
    "from sklearn.preprocessing import LabelEncoder\n",
    "from tensorflow.keras.models import Sequential\n",
    "from tensorflow.keras.layers import Dense\n",
    "from tensorflow.keras.layers import Activation\n",
    "from tensorflow.keras.layers import Dropout\n",
    "from tensorflow.keras.utils import to_categorical\n",
    "from tensorflow.keras.optimizers import SGD\n",
    "from keras.regularizers import l2\n",
    "from sklearn.metrics import accuracy_score\n",
    "MODEL_PATH = './model/'\n",
    "DATA_PATH = './data/'"
   ]
  },
  {
   "cell_type": "code",
   "execution_count": null,
   "id": "8618517d",
   "metadata": {},
   "outputs": [],
   "source": [
    "# --------------------------------------------Original Data--------------------------------------------------------------#"
   ]
  },
  {
   "cell_type": "code",
   "execution_count": null,
   "id": "4bcd7993",
   "metadata": {},
   "outputs": [],
   "source": [
    "dataset_name = 'location'\n",
    "train_size = 100\n",
    "attack_test_size = 50\n",
    "test_start = 100\n",
    "\n",
    "loc_data = pd.read_csv('data/Location/bangkok', na_values=[\"?\"], header=None)\n",
    "target_dataset = loc_data.sample(n = 1200, replace = False)\n",
    "df_rest = loc_data.loc[~loc_data.index.isin(target_dataset.index)]\n",
    "shadow_dataset = df_rest.sample(n = 2000, replace = False)\n",
    "df_rest = df_rest.loc[~df_rest.index.isin(shadow_dataset.index)]\n",
    "attack_test_nonmembers = df_rest.sample(n = attack_test_size, replace = False)\n",
    "attack_test_members =  target_dataset.iloc[:train_size,:].sample(n = attack_test_size, replace = False)"
   ]
  },
  {
   "cell_type": "code",
   "execution_count": null,
   "id": "6d35a6ae",
   "metadata": {},
   "outputs": [],
   "source": [
    "# trian target model\n",
    "per_class_sample=40\n",
    "channel=1   \n",
    "epochs=100\n",
    "n_class = 31\n",
    "is_synthetic = False\n",
    "VERBOSE = 0\n",
    "test_ratio = 0.3\n",
    "\n",
    "target_model, dim = train_target_model(target_dataset, dataset_name, per_class_sample, epochs, n_class, train_size, test_start, is_synthetic)"
   ]
  },
  {
   "cell_type": "code",
   "execution_count": null,
   "id": "9d75ed86",
   "metadata": {},
   "outputs": [],
   "source": [
    "#train shadow model\n",
    "n_shadow_models = 20\n",
    "shadow_data_size = 1200\n",
    "\n",
    "load_shadow_data(shadow_dataset, dataset_name, n_shadow_models, shadow_data_size, test_ratio, is_synthetic)\n",
    "n_shadow_train_performance, n_shadow_test_performance, n_attack_data, x_shadow_train, y_shadow_train, x_shadow_test, y_shadow_test, shadow_model_init, shadow_accuracy = train_shadow_models(dataset_name, n_shadow_models, n_class, dim, epochs, channel)"
   ]
  },
  {
   "cell_type": "code",
   "execution_count": null,
   "id": "65bbf5bd",
   "metadata": {},
   "outputs": [],
   "source": [
    "#train attack model\n",
    "attack_test_data = prepare_attack_test_data(dataset_name, attack_test_members, attack_test_nonmembers, target_model, is_synthetic)\n",
    "mem_validation, nmem_validation = prep_validation_data(attack_test_data)\n",
    "attack_train_df = prep_attack_train_data(n_attack_data)\n",
    "pred_membership, ori_membership, TP_idx_list, TN_idx_list, mpred, nmpred = shokri_attack(attack_train_df, mem_validation, nmem_validation, epochs)\n",
    "tp, fp, fn, tn, precision, advj, acc, recall = prety_print_result (ori_membership,pred_membership)\n",
    "print('Accuracy: ', acc, 'Precision: ', precision)"
   ]
  },
  {
   "cell_type": "code",
   "execution_count": null,
   "id": "949bf4bd",
   "metadata": {},
   "outputs": [],
   "source": [
    "mpredi = np.array([item for sublist in mpred for item in sublist])\n",
    "len(mpredi)"
   ]
  },
  {
   "cell_type": "code",
   "execution_count": null,
   "id": "ff19ee57",
   "metadata": {},
   "outputs": [],
   "source": [
    "nmpredi = np.array([item for sublist in nmpred for item in sublist])"
   ]
  },
  {
   "cell_type": "code",
   "execution_count": null,
   "id": "ef4bdffa",
   "metadata": {},
   "outputs": [],
   "source": [
    "df = pd.DataFrame(mpredi)\n",
    "df['memberstatus'] = 'member'\n",
    "df_nm = pd.DataFrame(nmpredi)\n",
    "df_nm['memberstatus'] = 'nonmember'\n",
    "df_nm\n",
    "frames = [df, df_nm]\n",
    "df_org = pd.concat(frames)\n",
    "df_org"
   ]
  },
  {
   "cell_type": "code",
   "execution_count": null,
   "id": "8981c66e",
   "metadata": {},
   "outputs": [],
   "source": [
    "# --------------------------------------------Original Data--------------------------------------------------------------#"
   ]
  },
  {
   "cell_type": "code",
   "execution_count": null,
   "id": "29bddb99",
   "metadata": {},
   "outputs": [],
   "source": [
    "# --------------------------------------------Synthetic Data------------------------------------------------------------#"
   ]
  },
  {
   "cell_type": "code",
   "execution_count": null,
   "id": "d52179d3",
   "metadata": {},
   "outputs": [],
   "source": [
    "# synthetic dataset\n",
    "train_size = 100\n",
    "attack_test_size = 50\n",
    "test_start = 100\n",
    "org_dataset = pd.read_csv('data/Location/bangkok', na_values=[\"?\"], header=None)\n",
    "target_dataset = pd.read_csv('data/Location/loc_sds_cac_200.csv', na_values=[\"?\"], header=None).sample(n = 150, replace = False)\n",
    "df = org_dataset.iloc[2500:,:]\n",
    "# shadow_dataset = df.sample(n = 1900, replace = False)\n",
    "# df_rest = df.loc[~df.index.isin(shadow_dataset.index)]\n",
    "# attack_test_nonmembers = df_rest.sample(n = attack_test_size, replace = False)\n",
    "# attack_test_members = org_dataset.iloc[:200,:]\n",
    "# attack_test_members = attack_test_members.sample(n=attack_test_size, replace=False)"
   ]
  },
  {
   "cell_type": "code",
   "execution_count": null,
   "id": "a9575ae9",
   "metadata": {},
   "outputs": [],
   "source": [
    "# trian target model\n",
    "per_class_sample=40\n",
    "channel=1   \n",
    "epochs=100\n",
    "n_class = 31\n",
    "is_synthetic = False\n",
    "VERBOSE = 0\n",
    "test_ratio = 0.3\n",
    "\n",
    "target_model, dim = train_target_model(target_dataset, dataset_name, per_class_sample, epochs, n_class, train_size, test_start, is_synthetic)"
   ]
  },
  {
   "cell_type": "code",
   "execution_count": null,
   "id": "aea6133b",
   "metadata": {},
   "outputs": [],
   "source": [
    "#train shadow model\n",
    "n_shadow_models = 20\n",
    "shadow_data_size = 1200\n",
    "\n",
    "load_shadow_data(shadow_dataset, dataset_name, n_shadow_models, shadow_data_size, test_ratio, is_synthetic)\n",
    "n_shadow_train_performance, n_shadow_test_performance, n_attack_data, x_shadow_train, y_shadow_train, x_shadow_test, y_shadow_test, shadow_model_init, shadow_accuracy = train_shadow_models(dataset_name, n_shadow_models, n_class, dim, epochs, channel)"
   ]
  },
  {
   "cell_type": "code",
   "execution_count": null,
   "id": "39a76e50",
   "metadata": {},
   "outputs": [],
   "source": [
    "#train attack model\n",
    "attack_test_data = prepare_attack_test_data(dataset_name, attack_test_members, attack_test_nonmembers, target_model, is_synthetic)\n",
    "mem_validation, nmem_validation = prep_validation_data(attack_test_data)\n",
    "attack_train_df = prep_attack_train_data(n_attack_data)\n",
    "pred_membership, ori_membership, TP_idx_list, TN_idx_list, mpred_syn, nmpred_syn = shokri_attack(attack_train_df, mem_validation, nmem_validation, epochs)\n",
    "tp, fp, fn, tn, precision, advj, acc, recall = prety_print_result (ori_membership,pred_membership)\n",
    "print('Accuracy: ', acc, 'Precision: ', precision)"
   ]
  },
  {
   "cell_type": "code",
   "execution_count": null,
   "id": "4341df71",
   "metadata": {},
   "outputs": [],
   "source": [
    "mpredi_syn = np.array([item for sublist in mpred_syn for item in sublist])\n",
    "nmpredi_syn = np.array([item for sublist in nmpred_syn for item in sublist])\n",
    "mpredi_syn"
   ]
  },
  {
   "cell_type": "code",
   "execution_count": null,
   "id": "80ecb84b",
   "metadata": {},
   "outputs": [],
   "source": [
    "df_syn_m = pd.DataFrame(mpredi_syn)\n",
    "df_syn_m['memberstatus'] = 'member'\n",
    "df_syn_nm = pd.DataFrame(nmpredi_syn)\n",
    "df_syn_nm['memberstatus'] = 'nonmember'\n",
    "frames_syn = [df_syn_m, df_syn_nm]\n",
    "df_syn = pd.concat(frames_syn)"
   ]
  },
  {
   "cell_type": "code",
   "execution_count": null,
   "id": "91f8f6dc",
   "metadata": {},
   "outputs": [],
   "source": [
    "df_org['syn_0'] = df_syn[[0]]\n",
    "df_org['syn_1'] = df_syn[[1]]\n",
    "df_org['syn_mem_status'] = df_syn[['memberstatus']]\n",
    "df_org"
   ]
  },
  {
   "cell_type": "code",
   "execution_count": null,
   "id": "61bf030f",
   "metadata": {},
   "outputs": [],
   "source": [
    "df_org.to_csv('data/prediction_comparison_org_vs_syn.csv', index=False)"
   ]
  },
  {
   "cell_type": "code",
   "execution_count": null,
   "id": "fa10b3de",
   "metadata": {},
   "outputs": [],
   "source": [
    "# --------------------------------------------Synthetic Data------------------------------------------------------------#"
   ]
  }
 ],
 "metadata": {
  "kernelspec": {
   "display_name": "Python 3 (ipykernel)",
   "language": "python",
   "name": "python3"
  },
  "language_info": {
   "codemirror_mode": {
    "name": "ipython",
    "version": 3
   },
   "file_extension": ".py",
   "mimetype": "text/x-python",
   "name": "python",
   "nbconvert_exporter": "python",
   "pygments_lexer": "ipython3",
   "version": "3.7.12"
  }
 },
 "nbformat": 4,
 "nbformat_minor": 5
}
