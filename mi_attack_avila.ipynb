{
 "cells": [
  {
   "cell_type": "code",
   "execution_count": null,
   "id": "1027973e",
   "metadata": {},
   "outputs": [],
   "source": [
    "from mia_models import train_target_model, load_shadow_data, train_shadow_models\n",
    "from mia_models import prepare_attack_test_data, prep_validation_data, prep_attack_train_data\n",
    "from mia_models import shokri_attack, prety_print_result\n",
    "import tensorflow.keras as keras\n",
    "import numpy as np\n",
    "from sklearn.utils import resample\n",
    "import pandas as pd\n",
    "import pickle\n",
    "import os\n",
    "import csv\n",
    "import scipy.stats as stats\n",
    "from sklearn.model_selection import train_test_split\n",
    "from imblearn.over_sampling import SMOTE\n",
    "from sklearn.metrics import precision_recall_fscore_support\n",
    "from sklearn.metrics import confusion_matrix,accuracy_score\n",
    "from sklearn.linear_model import LogisticRegression\n",
    "from statistics import mean\n",
    "from sklearn.preprocessing import StandardScaler\n",
    "from sklearn.preprocessing import LabelEncoder\n",
    "from tensorflow.keras.models import Sequential\n",
    "from tensorflow.keras.layers import Dense\n",
    "from tensorflow.keras.layers import Activation\n",
    "from tensorflow.keras.layers import Dropout\n",
    "from tensorflow.keras.utils import to_categorical\n",
    "from tensorflow.keras.optimizers import SGD\n",
    "from keras.regularizers import l2\n",
    "from sklearn.metrics import accuracy_score\n",
    "MODEL_PATH = './model/'\n",
    "DATA_PATH = './data/'"
   ]
  },
  {
   "cell_type": "code",
   "execution_count": null,
   "id": "f13a0fff",
   "metadata": {},
   "outputs": [],
   "source": [
    "# --------------------------------------------Original Data--------------------------------------------------------------#"
   ]
  },
  {
   "cell_type": "code",
   "execution_count": null,
   "id": "82e68463",
   "metadata": {},
   "outputs": [],
   "source": [
    "# original dataset with random index\n",
    "dataset_name = 'avila'\n",
    "train_size = 7000\n",
    "attack_test_size = 2500\n",
    "test_start = 7000\n",
    "data = pd.read_csv('data/Avila/avila-tr.txt', na_values=[\"?\"], header=None)\n",
    "data.dropna(inplace=True)\n",
    "target_dataset = data.sample(n = 10000, replace = False)\n",
    "df_rest = pd.read_csv('data/Avila/avila-ts.txt', na_values=[\"?\"], header=None)\n",
    "shadow_dataset = df_rest.sample(n = 7000, replace = False)\n",
    "df_rest = df_rest.loc[~df_rest.index.isin(shadow_dataset.index)]\n",
    "attack_test_nonmembers = df_rest.sample(n = attack_test_size, replace = False)\n",
    "attack_test_members =  target_dataset.iloc[:train_size,:].sample(n = attack_test_size, replace = False)"
   ]
  },
  {
   "cell_type": "code",
   "execution_count": null,
   "id": "c3787688",
   "metadata": {},
   "outputs": [],
   "source": [
    "# trian target model\n",
    "per_class_sample=150\n",
    "channel=0   \n",
    "epochs=200\n",
    "n_class = 12\n",
    "is_synthetic = False\n",
    "VERBOSE = 0\n",
    "test_ratio = 0.3\n",
    "\n",
    "target_model, dim = train_target_model(target_dataset, dataset_name, per_class_sample, epochs, n_class, train_size, test_start, is_synthetic)"
   ]
  },
  {
   "cell_type": "code",
   "execution_count": null,
   "id": "5a961b01",
   "metadata": {},
   "outputs": [],
   "source": [
    "#train shadow model\n",
    "n_shadow_models = 20\n",
    "shadow_data_size = 7000\n",
    "\n",
    "load_shadow_data(shadow_dataset, dataset_name, n_shadow_models, shadow_data_size, test_ratio, is_synthetic)\n",
    "n_shadow_train_performance, n_shadow_test_performance, n_attack_data, x_shadow_train, y_shadow_train, x_shadow_test, y_shadow_test, shadow_model_init, shadow_accuracy = train_shadow_models(dataset_name, n_shadow_models, n_class, dim, epochs, channel)"
   ]
  },
  {
   "cell_type": "code",
   "execution_count": null,
   "id": "9074b50c",
   "metadata": {},
   "outputs": [],
   "source": [
    "#train attack model\n",
    "attack_test_data = prepare_attack_test_data(dataset_name, attack_test_members, attack_test_nonmembers, target_model, is_synthetic)\n",
    "mem_validation, nmem_validation = prep_validation_data(attack_test_data)\n",
    "attack_train_df = prep_attack_train_data(n_attack_data)\n",
    "pred_membership, ori_membership, TP_idx_list, TN_idx_list, mpred, nmpred = shokri_attack(attack_train_df, mem_validation, nmem_validation, epochs)\n",
    "tp, fp, fn, tn, precision, advj, acc, recall = prety_print_result (ori_membership,pred_membership)\n",
    "print('Accuracy: ', acc, 'Precision: ', precision)"
   ]
  },
  {
   "cell_type": "code",
   "execution_count": null,
   "id": "1b8ae477",
   "metadata": {},
   "outputs": [],
   "source": [
    "# --------------------------------------------Synthetic Data------------------------------------------------------------#"
   ]
  },
  {
   "cell_type": "code",
   "execution_count": null,
   "id": "f3d6ac33",
   "metadata": {},
   "outputs": [],
   "source": [
    "# synthetic dataset\n",
    "train_size = 7000\n",
    "attack_test_size = 2500\n",
    "test_start = 7000\n",
    "target_dataset = pd.read_csv('data/Avila/avila_sds.csv', na_values=[\"?\"], header=None)\n",
    "df = pd.read_csv('data/Avila/avila-ts.txt', na_values=[\"?\"], header=None)\n",
    "shadow_dataset = df.sample(n = 7500, replace = False)\n",
    "df_rest = df.loc[~df.index.isin(shadow_dataset.index)]\n",
    "attack_test_nonmembers = df_rest.sample(n = attack_test_size, replace = False)\n",
    "attack_test_members = pd.read_csv('data/Avila/avila-tr.txt', na_values=[\"?\"], header=None)\n",
    "attack_test_members = attack_test_members.sample(n=attack_test_size, replace=False)"
   ]
  },
  {
   "cell_type": "code",
   "execution_count": null,
   "id": "2e8d406d",
   "metadata": {},
   "outputs": [],
   "source": [
    "# trian target model\n",
    "per_class_sample=150\n",
    "channel=0   \n",
    "epochs=200\n",
    "n_class = 12\n",
    "is_synthetic = False\n",
    "VERBOSE = 0\n",
    "test_ratio = 0.3\n",
    "\n",
    "target_model, dim = train_target_model(target_dataset, dataset_name, per_class_sample, epochs, n_class, train_size, test_start, is_synthetic)"
   ]
  },
  {
   "cell_type": "code",
   "execution_count": null,
   "id": "c83ba152",
   "metadata": {},
   "outputs": [],
   "source": [
    "#train shadow model\n",
    "n_shadow_models = 20\n",
    "shadow_data_size = 7000\n",
    "\n",
    "load_shadow_data(shadow_dataset, dataset_name, n_shadow_models, shadow_data_size, test_ratio, is_synthetic)\n",
    "n_shadow_train_performance, n_shadow_test_performance, n_attack_data, x_shadow_train, y_shadow_train, x_shadow_test, y_shadow_test, shadow_model_init, shadow_accuracy = train_shadow_models(dataset_name, n_shadow_models, n_class, dim, epochs, channel)"
   ]
  },
  {
   "cell_type": "code",
   "execution_count": null,
   "id": "ef67324a",
   "metadata": {},
   "outputs": [],
   "source": [
    "#train attack model\n",
    "attack_test_data = prepare_attack_test_data(dataset_name, attack_test_members, attack_test_nonmembers, target_model, is_synthetic)\n",
    "mem_validation, nmem_validation = prep_validation_data(attack_test_data)\n",
    "attack_train_df = prep_attack_train_data(n_attack_data)\n",
    "pred_membership, ori_membership, TP_idx_list, TN_idx_list, mpred_syn, nmpred_syn = shokri_attack(attack_train_df, mem_validation, nmem_validation, epochs)\n",
    "tp, fp, fn, tn, precision, advj, acc, recall = prety_print_result (ori_membership,pred_membership)\n",
    "print('Accuracy: ', acc, 'Precision: ', precision)"
   ]
  },
  {
   "cell_type": "code",
   "execution_count": null,
   "id": "2e2c5362",
   "metadata": {},
   "outputs": [],
   "source": [
    "# --------------------------------------------Synthetic Data-------------------------------------------------------------#"
   ]
  }
 ],
 "metadata": {
  "kernelspec": {
   "display_name": "Python 3 (ipykernel)",
   "language": "python",
   "name": "python3"
  },
  "language_info": {
   "codemirror_mode": {
    "name": "ipython",
    "version": 3
   },
   "file_extension": ".py",
   "mimetype": "text/x-python",
   "name": "python",
   "nbconvert_exporter": "python",
   "pygments_lexer": "ipython3",
   "version": "3.7.12"
  }
 },
 "nbformat": 4,
 "nbformat_minor": 5
}
