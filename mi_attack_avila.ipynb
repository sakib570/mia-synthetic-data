{
 "cells": [
  {
   "cell_type": "code",
   "execution_count": 1,
   "id": "1027973e",
   "metadata": {},
   "outputs": [
    {
     "name": "stderr",
     "output_type": "stream",
     "text": [
      "2023-06-06 12:24:18.435738: W tensorflow/stream_executor/platform/default/dso_loader.cc:64] Could not load dynamic library 'libcudart.so.11.0'; dlerror: libcudart.so.11.0: cannot open shared object file: No such file or directory\n",
      "2023-06-06 12:24:18.435865: I tensorflow/stream_executor/cuda/cudart_stub.cc:29] Ignore above cudart dlerror if you do not have a GPU set up on your machine.\n"
     ]
    }
   ],
   "source": [
    "from mia_models import train_target_model, load_shadow_data, train_shadow_models\n",
    "from mia_models import prepare_attack_test_data, prep_validation_data, prep_attack_train_data\n",
    "from mia_models import shokri_attack, prety_print_result\n",
    "import tensorflow.keras as keras\n",
    "import numpy as np\n",
    "from sklearn.utils import resample\n",
    "import pandas as pd\n",
    "import pickle\n",
    "import os\n",
    "import csv\n",
    "import scipy.stats as stats\n",
    "from sklearn.model_selection import train_test_split\n",
    "from imblearn.over_sampling import SMOTE\n",
    "from sklearn.metrics import precision_recall_fscore_support\n",
    "from sklearn.metrics import confusion_matrix,accuracy_score\n",
    "from sklearn.linear_model import LogisticRegression\n",
    "from statistics import mean\n",
    "from sklearn.preprocessing import StandardScaler\n",
    "from sklearn.preprocessing import LabelEncoder\n",
    "from tensorflow.keras.models import Sequential\n",
    "from tensorflow.keras.layers import Dense\n",
    "from tensorflow.keras.layers import Activation\n",
    "from tensorflow.keras.layers import Dropout\n",
    "from tensorflow.keras.utils import to_categorical\n",
    "from tensorflow.keras.optimizers import SGD\n",
    "from keras.regularizers import l2\n",
    "from sklearn.metrics import accuracy_score\n",
    "MODEL_PATH = './model/'\n",
    "DATA_PATH = './data/'"
   ]
  },
  {
   "cell_type": "code",
   "execution_count": null,
   "id": "f13a0fff",
   "metadata": {},
   "outputs": [],
   "source": [
    "# --------------------------------------------Original Data--------------------------------------------------------------#"
   ]
  },
  {
   "cell_type": "code",
   "execution_count": 2,
   "id": "82e68463",
   "metadata": {},
   "outputs": [],
   "source": [
    "# original dataset with random index\n",
    "dataset_name = 'avila'\n",
    "train_size = 7000\n",
    "attack_test_size = 2500\n",
    "test_start = 7000\n",
    "data = pd.read_csv('data/Avila/avila-tr.txt', na_values=[\"?\"], header=None)\n",
    "data.dropna(inplace=True)\n",
    "target_dataset = data.sample(n = 10000, replace = False)\n",
    "df_rest = pd.read_csv('data/Avila/avila-ts.txt', na_values=[\"?\"], header=None)\n",
    "shadow_dataset = df_rest.sample(n = 7000, replace = False)\n",
    "df_rest = df_rest.loc[~df_rest.index.isin(shadow_dataset.index)]\n",
    "attack_test_nonmembers = df_rest.sample(n = attack_test_size, replace = False)\n",
    "attack_test_members =  target_dataset.iloc[:train_size,:].sample(n = attack_test_size, replace = False)"
   ]
  },
  {
   "cell_type": "code",
   "execution_count": 3,
   "id": "c3787688",
   "metadata": {},
   "outputs": [
    {
     "name": "stderr",
     "output_type": "stream",
     "text": [
      "2023-06-06 12:24:51.586005: W tensorflow/stream_executor/platform/default/dso_loader.cc:64] Could not load dynamic library 'libcuda.so.1'; dlerror: libcuda.so.1: cannot open shared object file: No such file or directory\n",
      "2023-06-06 12:24:51.586169: W tensorflow/stream_executor/cuda/cuda_driver.cc:269] failed call to cuInit: UNKNOWN ERROR (303)\n",
      "2023-06-06 12:24:51.586262: I tensorflow/stream_executor/cuda/cuda_diagnostics.cc:156] kernel driver does not appear to be running on this host (LAPTOP-BP5MTC3R): /proc/driver/nvidia/version does not exist\n",
      "2023-06-06 12:24:51.587115: I tensorflow/core/platform/cpu_feature_guard.cc:193] This TensorFlow binary is optimized with oneAPI Deep Neural Network Library (oneDNN) to use the following CPU instructions in performance-critical operations:  AVX2 FMA\n",
      "To enable them in other operations, rebuild TensorFlow with the appropriate compiler flags.\n"
     ]
    },
    {
     "name": "stdout",
     "output_type": "stream",
     "text": [
      "\n",
      " Target Train acc :  99.85714554786682 Target Test acc :  97.89999723434448\n"
     ]
    }
   ],
   "source": [
    "# trian target model\n",
    "per_class_sample=150\n",
    "channel=0   \n",
    "epochs=200\n",
    "n_class = 12\n",
    "is_synthetic = False\n",
    "VERBOSE = 0\n",
    "test_ratio = 0.3\n",
    "\n",
    "target_model, dim = train_target_model(target_dataset, dataset_name, per_class_sample, epochs, n_class, train_size, test_start, is_synthetic)"
   ]
  },
  {
   "cell_type": "code",
   "execution_count": null,
   "id": "5a961b01",
   "metadata": {},
   "outputs": [],
   "source": [
    "#train shadow model\n",
    "n_shadow_models = 20\n",
    "shadow_data_size = 7000\n",
    "\n",
    "load_shadow_data(shadow_dataset, dataset_name, n_shadow_models, shadow_data_size, test_ratio, is_synthetic)\n",
    "n_shadow_train_performance, n_shadow_test_performance, n_attack_data, x_shadow_train, y_shadow_train, x_shadow_test, y_shadow_test, shadow_model_init, shadow_accuracy = train_shadow_models(dataset_name, n_shadow_models, n_class, dim, epochs, channel)"
   ]
  },
  {
   "cell_type": "code",
   "execution_count": 7,
   "id": "9074b50c",
   "metadata": {},
   "outputs": [
    {
     "name": "stdout",
     "output_type": "stream",
     "text": [
      "79/79 [==============================] - 0s 3ms/step\n",
      "79/79 [==============================] - 0s 2ms/step\n",
      "0\n",
      "33/33 [==============================] - 0s 1ms/step\n",
      "32/32 [==============================] - 0s 1ms/step\n",
      "1\n",
      "1/1 [==============================] - 0s 46ms/step\n",
      "1/1 [==============================] - 0s 20ms/step\n",
      "2\n",
      "1/1 [==============================] - 0s 47ms/step\n",
      "1/1 [==============================] - 0s 26ms/step\n",
      "3\n",
      "3/3 [==============================] - 0s 2ms/step\n",
      "3/3 [==============================] - 0s 2ms/step\n",
      "4\n",
      "10/10 [==============================] - 0s 1ms/step\n",
      "9/9 [==============================] - 0s 2ms/step\n",
      "5\n",
      "15/15 [==============================] - 0s 1ms/step\n",
      "16/16 [==============================] - 0s 1ms/step\n",
      "6\n",
      "3/3 [==============================] - 0s 2ms/step\n",
      "3/3 [==============================] - 0s 2ms/step\n",
      "7\n",
      "4/4 [==============================] - 0s 2ms/step\n",
      "4/4 [==============================] - 0s 2ms/step\n",
      "8\n",
      "7/7 [==============================] - 0s 1ms/step\n",
      "7/7 [==============================] - 0s 1ms/step\n",
      "9\n",
      "1/1 [==============================] - 0s 46ms/step\n",
      "1/1 [==============================] - 0s 22ms/step\n",
      "10\n",
      "5/5 [==============================] - 0s 2ms/step\n",
      "4/4 [==============================] - 0s 2ms/step\n",
      "11\n",
      "2/2 [==============================] - 0s 3ms/step\n",
      "3/3 [==============================] - 0s 2ms/step\n",
      "TP: 2498     FP: 2444     FN: 2     TN: 56\n",
      "PPV: 0.5055\n",
      "Advantage: 0.0216\n",
      "Accuracy:  0.5108 Precision:  0.5054633751517604\n"
     ]
    }
   ],
   "source": [
    "#train attack model\n",
    "attack_test_data = prepare_attack_test_data(dataset_name, attack_test_members, attack_test_nonmembers, target_model, is_synthetic)\n",
    "mem_validation, nmem_validation = prep_validation_data(attack_test_data)\n",
    "attack_train_df = prep_attack_train_data(n_attack_data)\n",
    "pred_membership, ori_membership, TP_idx_list, TN_idx_list, mpred, nmpred = shokri_attack(attack_train_df, mem_validation, nmem_validation, epochs)\n",
    "tp, fp, fn, tn, precision, advj, acc, recall = prety_print_result (ori_membership,pred_membership)\n",
    "print('Accuracy: ', acc, 'Precision: ', precision)"
   ]
  },
  {
   "cell_type": "code",
   "execution_count": null,
   "id": "1b8ae477",
   "metadata": {},
   "outputs": [],
   "source": [
    "# --------------------------------------------Synthetic Data------------------------------------------------------------#"
   ]
  },
  {
   "cell_type": "code",
   "execution_count": 6,
   "id": "f3d6ac33",
   "metadata": {},
   "outputs": [],
   "source": [
    "# synthetic dataset\n",
    "train_size = 7000\n",
    "attack_test_size = 2500\n",
    "test_start = 7000\n",
    "target_dataset = pd.read_csv('data/Avila/avila_sds.csv', na_values=[\"?\"], header=None)\n",
    "df = pd.read_csv('data/Avila/avila-ts.txt', na_values=[\"?\"], header=None)\n",
    "shadow_dataset = df.sample(n = 7500, replace = False)\n",
    "df_rest = df.loc[~df.index.isin(shadow_dataset.index)]\n",
    "attack_test_nonmembers = df_rest.sample(n = attack_test_size, replace = False)\n",
    "attack_test_members = pd.read_csv('data/Avila/avila-tr.txt', na_values=[\"?\"], header=None)\n",
    "attack_test_members = attack_test_members.sample(n=attack_test_size, replace=False)"
   ]
  },
  {
   "cell_type": "code",
   "execution_count": 7,
   "id": "2e8d406d",
   "metadata": {},
   "outputs": [
    {
     "name": "stdout",
     "output_type": "stream",
     "text": [
      "\n",
      " Target Train acc :  99.9571442604065 Target Test acc :  98.89212846755981\n"
     ]
    }
   ],
   "source": [
    "# trian target model\n",
    "per_class_sample=150\n",
    "channel=0   \n",
    "epochs=200\n",
    "n_class = 12\n",
    "is_synthetic = False\n",
    "VERBOSE = 0\n",
    "test_ratio = 0.3\n",
    "\n",
    "target_model, dim = train_target_model(target_dataset, dataset_name, per_class_sample, epochs, n_class, train_size, test_start, is_synthetic)"
   ]
  },
  {
   "cell_type": "code",
   "execution_count": 8,
   "id": "c83ba152",
   "metadata": {},
   "outputs": [
    {
     "name": "stdout",
     "output_type": "stream",
     "text": [
      "Shadow Model  0\n",
      "Training shadow model 0\n",
      "Shadow Train acc :  99.5102047920227 Shadow Test acc :  95.19047737121582\n",
      "154/154 [==============================] - 1s 8ms/step\n",
      "66/66 [==============================] - 1s 8ms/step\n",
      "Shadow Model  1\n",
      "Training shadow model 1\n",
      "Shadow Train acc :  99.83673691749573 Shadow Test acc :  95.23809552192688\n",
      "154/154 [==============================] - 1s 8ms/step\n",
      "66/66 [==============================] - 1s 7ms/step\n",
      "Shadow Model  2\n",
      "Training shadow model 2\n",
      "Shadow Train acc :  99.9795913696289 Shadow Test acc :  95.57142853736877\n",
      "154/154 [==============================] - 1s 8ms/step\n",
      "66/66 [==============================] - 1s 8ms/step\n",
      "Shadow Model  3\n",
      "Training shadow model 3\n",
      "Shadow Train acc :  99.81632828712463 Shadow Test acc :  96.09524011611938\n",
      "154/154 [==============================] - 2s 9ms/step\n",
      "66/66 [==============================] - 1s 9ms/step\n",
      "Shadow Model  4\n",
      "Training shadow model 4\n",
      "Shadow Train acc :  99.95918273925781 Shadow Test acc :  96.23809456825256\n",
      "154/154 [==============================] - 2s 9ms/step\n",
      "66/66 [==============================] - 1s 9ms/step\n",
      "Shadow Model  5\n",
      "Training shadow model 5\n",
      "Shadow Train acc :  99.91836547851562 Shadow Test acc :  95.23809552192688\n",
      "154/154 [==============================] - 2s 8ms/step\n",
      "66/66 [==============================] - 1s 8ms/step\n",
      "Shadow Model  6\n",
      "Training shadow model 6\n",
      "Shadow Train acc :  99.91836547851562 Shadow Test acc :  96.09524011611938\n",
      "154/154 [==============================] - 1s 8ms/step\n",
      "66/66 [==============================] - 1s 10ms/step\n",
      "Shadow Model  7\n",
      "Training shadow model 7\n",
      "Shadow Train acc :  99.91836547851562 Shadow Test acc :  95.90476155281067\n",
      "154/154 [==============================] - 1s 7ms/step\n",
      "66/66 [==============================] - 1s 8ms/step\n",
      "Shadow Model  8\n",
      "Training shadow model 8\n",
      "Shadow Train acc :  99.93877410888672 Shadow Test acc :  95.28571367263794\n",
      "154/154 [==============================] - 2s 9ms/step\n",
      "66/66 [==============================] - 1s 9ms/step\n",
      "Shadow Model  9\n",
      "Training shadow model 9\n",
      "Shadow Train acc :  99.9795913696289 Shadow Test acc :  97.23809361457825\n",
      "154/154 [==============================] - 1s 8ms/step\n",
      "66/66 [==============================] - 1s 8ms/step\n",
      "Shadow Model  10\n",
      "Training shadow model 10\n",
      "Shadow Train acc :  99.93877410888672 Shadow Test acc :  96.57142758369446\n",
      "154/154 [==============================] - 1s 8ms/step\n",
      "66/66 [==============================] - 1s 9ms/step\n",
      "Shadow Model  11\n",
      "Training shadow model 11\n",
      "Shadow Train acc :  99.9795913696289 Shadow Test acc :  95.14285922050476\n",
      "154/154 [==============================] - 1s 7ms/step\n",
      "66/66 [==============================] - 1s 9ms/step\n",
      "Shadow Model  12\n",
      "Training shadow model 12\n",
      "Shadow Train acc :  99.89795684814453 Shadow Test acc :  95.0952410697937\n",
      "154/154 [==============================] - 1s 7ms/step\n",
      "66/66 [==============================] - 1s 8ms/step\n",
      "Shadow Model  13\n",
      "Training shadow model 13\n",
      "Shadow Train acc :  99.73469376564026 Shadow Test acc :  94.61904764175415\n",
      "154/154 [==============================] - 1s 7ms/step\n",
      "66/66 [==============================] - 1s 9ms/step\n",
      "Shadow Model  14\n",
      "Training shadow model 14\n",
      "Shadow Train acc :  99.36734437942505 Shadow Test acc :  95.28571367263794\n",
      "154/154 [==============================] - 1s 8ms/step\n",
      "66/66 [==============================] - 1s 7ms/step\n",
      "Shadow Model  15\n",
      "Training shadow model 15\n",
      "Shadow Train acc :  87.40816116333008 Shadow Test acc :  82.99999833106995\n",
      "154/154 [==============================] - 14s 87ms/step\n",
      "66/66 [==============================] - 1s 17ms/step\n",
      "Shadow Model  16\n",
      "Training shadow model 16\n",
      "Shadow Train acc :  99.95918273925781 Shadow Test acc :  95.95237970352173\n",
      "154/154 [==============================] - 3s 14ms/step\n",
      "66/66 [==============================] - 1s 17ms/step\n",
      "Shadow Model  17\n",
      "Training shadow model 17\n",
      "Shadow Train acc :  98.34693670272827 Shadow Test acc :  93.71428489685059\n",
      "154/154 [==============================] - 2s 11ms/step\n",
      "66/66 [==============================] - 2s 29ms/step\n",
      "Shadow Model  18\n",
      "Training shadow model 18\n",
      "Shadow Train acc :  99.79591965675354 Shadow Test acc :  95.76190710067749\n",
      "154/154 [==============================] - 2s 13ms/step\n",
      "66/66 [==============================] - 1s 11ms/step\n",
      "Shadow Model  19\n",
      "Training shadow model 19\n",
      "Shadow Train acc :  99.77551102638245 Shadow Test acc :  94.47619318962097\n",
      "154/154 [==============================] - 1s 5ms/step\n",
      "66/66 [==============================] - 0s 4ms/step\n"
     ]
    }
   ],
   "source": [
    "#train shadow model\n",
    "n_shadow_models = 20\n",
    "shadow_data_size = 7000\n",
    "\n",
    "load_shadow_data(shadow_dataset, dataset_name, n_shadow_models, shadow_data_size, test_ratio, is_synthetic)\n",
    "n_shadow_train_performance, n_shadow_test_performance, n_attack_data, x_shadow_train, y_shadow_train, x_shadow_test, y_shadow_test, shadow_model_init, shadow_accuracy = train_shadow_models(dataset_name, n_shadow_models, n_class, dim, epochs, channel)"
   ]
  },
  {
   "cell_type": "code",
   "execution_count": 9,
   "id": "ef67324a",
   "metadata": {
    "collapsed": true
   },
   "outputs": [
    {
     "name": "stdout",
     "output_type": "stream",
     "text": [
      "79/79 [==============================] - 1s 4ms/step\n",
      "79/79 [==============================] - 0s 4ms/step\n",
      "0\n",
      "34/34 [==============================] - 0s 4ms/step\n",
      "33/33 [==============================] - 0s 3ms/step\n",
      "1\n",
      "1/1 [==============================] - 0s 102ms/step\n",
      "1/1 [==============================] - 0s 72ms/step\n",
      "2\n",
      "2/2 [==============================] - 0s 5ms/step\n",
      "3/3 [==============================] - 0s 2ms/step\n",
      "3\n",
      "3/3 [==============================] - 0s 7ms/step\n",
      "9/9 [==============================] - 0s 2ms/step\n",
      "4\n",
      "8/8 [==============================] - 0s 2ms/step\n",
      "15/15 [==============================] - 0s 2ms/step\n",
      "5\n",
      "14/14 [==============================] - 0s 2ms/step\n",
      "4/4 [==============================] - 0s 3ms/step\n",
      "6\n",
      "4/4 [==============================] - 0s 4ms/step\n",
      "4/4 [==============================] - 0s 3ms/step\n",
      "7\n",
      "4/4 [==============================] - 0s 2ms/step\n",
      "6/6 [==============================] - 0s 2ms/step\n",
      "8\n",
      "7/7 [==============================] - 0s 2ms/step\n",
      "1/1 [==============================] - 0s 42ms/step\n",
      "9\n",
      "1/1 [==============================] - 0s 70ms/step\n",
      "4/4 [==============================] - 0s 5ms/step\n",
      "10\n",
      "4/4 [==============================] - 0s 3ms/step\n",
      "3/3 [==============================] - 0s 5ms/step\n",
      "11\n",
      "TP: 2383     FP: 1001     FN: 70     TN: 1499\n",
      "PPV: 0.7042\n",
      "Advantage: 0.5711\n",
      "Accuracy:  0.7837674136886735 Precision:  0.7041962174940898\n"
     ]
    }
   ],
   "source": [
    "#train attack model\n",
    "attack_test_data = prepare_attack_test_data(dataset_name, attack_test_members, attack_test_nonmembers, target_model, is_synthetic)\n",
    "mem_validation, nmem_validation = prep_validation_data(attack_test_data)\n",
    "attack_train_df = prep_attack_train_data(n_attack_data)\n",
    "pred_membership, ori_membership, TP_idx_list, TN_idx_list, mpred_syn, nmpred_syn = shokri_attack(attack_train_df, mem_validation, nmem_validation, epochs)\n",
    "tp, fp, fn, tn, precision, advj, acc, recall = prety_print_result (ori_membership,pred_membership)\n",
    "print('Accuracy: ', acc, 'Precision: ', precision)"
   ]
  },
  {
   "cell_type": "code",
   "execution_count": null,
   "id": "2e2c5362",
   "metadata": {},
   "outputs": [],
   "source": [
    "# --------------------------------------------Synthetic Data-------------------------------------------------------------#"
   ]
  }
 ],
 "metadata": {
  "kernelspec": {
   "display_name": "Python 3 (ipykernel)",
   "language": "python",
   "name": "python3"
  },
  "language_info": {
   "codemirror_mode": {
    "name": "ipython",
    "version": 3
   },
   "file_extension": ".py",
   "mimetype": "text/x-python",
   "name": "python",
   "nbconvert_exporter": "python",
   "pygments_lexer": "ipython3",
   "version": "3.7.12"
  }
 },
 "nbformat": 4,
 "nbformat_minor": 5
}
